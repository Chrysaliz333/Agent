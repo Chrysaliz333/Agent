{
 "cells": [
  {
   "cell_type": "code",
   "execution_count": 19,
   "id": "478ba0c3-dbe2-48ab-b9d6-83254d78212d",
   "metadata": {
    "editable": true,
    "slideshow": {
     "slide_type": ""
    },
    "tags": []
   },
   "outputs": [
    {
     "name": "stdout",
     "output_type": "stream",
     "text": [
      "/opt/anaconda3/envs/OntologyAgent/bin/runoak\n"
     ]
    },
    {
     "name": "stderr",
     "output_type": "stream",
     "text": [
      "WARNING:root:Using rdflib rdf/xml parser; this behavior may change in future\n"
     ]
    }
   ],
   "source": [
    "%%bash\n",
    "set -euo pipefail\n",
    "\n",
    "# 0) Activate your conda env inside this bash cell\n",
    "source /opt/anaconda3/etc/profile.d/conda.sh || true\n",
    "conda activate OntologyAgent || true\n",
    "\n",
    "# 1) Paths\n",
    "LMSS=\"$HOME/legal-agent/imports/LMSS.owl\"\n",
    "[ -f \"$LMSS\" ] || { echo \"LMSS not found at: $LMSS\"; exit 1; }\n",
    "\n",
    "# 2) Ensure CLI shims are on PATH (without assuming CONDA_PREFIX exists)\n",
    "if [ -n \"${CONDA_PREFIX:-}\" ] && [ -d \"$CONDA_PREFIX/bin\" ]; then\n",
    "  export PATH=\"$CONDA_PREFIX/bin:$PATH\"\n",
    "fi\n",
    "export PATH=\"$HOME/.local/bin:$PATH\"\n",
    "\n",
    "# 3) Make sure runoak is available\n",
    "python -m pip show oaklib >/dev/null 2>&1 || python -m pip install -U oaklib rdflib >/dev/null\n",
    "command -v runoak || { echo \"runoak not found on PATH\"; exit 1; }\n",
    "\n",
    "# 4) Try reading OWL directly; if it fails, convert to TTL with ROBOT and retry\n",
    "if ! runoak -i \"$LMSS\" info >/dev/null 2>&1; then\n",
    "  echo \"Direct OWL read failed → converting to TTL with ROBOT…\"\n",
    "  mkdir -p \"$HOME/legal-agent/tools\"\n",
    "  [ -f \"$HOME/legal-agent/tools/robot.jar\" ] || curl -L -o \"$HOME/legal-agent/tools/robot.jar\" \\\n",
    "    \"https://github.com/ontodev/robot/releases/latest/download/robot.jar\"\n",
    "  command -v java >/dev/null 2>&1 || { echo \"Java not found. On mac: brew install openjdk\"; exit 1; }\n",
    "  java -jar \"$HOME/legal-agent/tools/robot.jar\" convert \\\n",
    "    --input \"$LMSS\" --format ttl --output \"$HOME/legal-agent/imports/LMSS.ttl\"\n",
    "  runoak -i \"$HOME/legal-agent/imports/LMSS.ttl\" info | head -n 20\n",
    "else\n",
    "  runoak -i \"$LMSS\" info | head -n 20\n",
    "fi\n"
   ]
  },
  {
   "cell_type": "code",
   "execution_count": null,
   "id": "110f1bac-27fe-49ca-af27-06e36ef060cd",
   "metadata": {},
   "outputs": [],
   "source": []
  }
 ],
 "metadata": {
  "kernelspec": {
   "display_name": "Python (OntologyAgent)",
   "language": "python",
   "name": "ontologyagent"
  },
  "language_info": {
   "codemirror_mode": {
    "name": "ipython",
    "version": 3
   },
   "file_extension": ".py",
   "mimetype": "text/x-python",
   "name": "python",
   "nbconvert_exporter": "python",
   "pygments_lexer": "ipython3",
   "version": "3.12.11"
  }
 },
 "nbformat": 4,
 "nbformat_minor": 5
}
